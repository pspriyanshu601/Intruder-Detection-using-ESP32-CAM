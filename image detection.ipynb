{
  "cells": [
    {
      "cell_type": "markdown",
      "metadata": {
        "id": "mM6GoukndAJf"
      },
      "source": [
        " Install Dependencies"
      ]
    },
    {
      "cell_type": "code",
      "execution_count": null,
      "metadata": {
        "collapsed": true,
        "id": "fhhasB-Dat25"
      },
      "outputs": [],
      "source": [
        "!pip install facenet-pytorch faiss-cpu flask-ngrok tqdm\n"
      ]
    },
    {
      "cell_type": "markdown",
      "metadata": {
        "id": "BO_V_jU5dFn9"
      },
      "source": [
        " Import Libraries"
      ]
    },
    {
      "cell_type": "code",
      "execution_count": null,
      "metadata": {
        "id": "gCOZPDtUc2JF"
      },
      "outputs": [],
      "source": [
        "from facenet_pytorch import InceptionResnetV1, MTCNN\n",
        "from PIL import Image\n",
        "import torch\n",
        "import numpy as np\n",
        "import faiss\n",
        "import os\n",
        "from tqdm import tqdm\n",
        "from flask import Flask, request, jsonify\n",
        "from flask_ngrok import run_with_ngrok\n",
        "import io"
      ]
    },
    {
      "cell_type": "markdown",
      "metadata": {
        "id": "9Dk_tS9fdIT4"
      },
      "source": [
        "Setup MTCNN (face detector) and FaceNet (embedding model)"
      ]
    },
    {
      "cell_type": "code",
      "execution_count": null,
      "metadata": {
        "id": "pzkhP6vXc40X"
      },
      "outputs": [],
      "source": [
        "device = torch.device('cuda' if torch.cuda.is_available() else 'cpu')\n",
        "mtcnn = MTCNN(image_size=160, margin=0, device=device)\n",
        "model = InceptionResnetV1(pretrained='vggface2').eval().to(device)"
      ]
    },
    {
      "cell_type": "markdown",
      "metadata": {
        "id": "6H_JwlKfdLsJ"
      },
      "source": [
        "Upload and unzip dataset (upload ZIP file manually)"
      ]
    },
    {
      "cell_type": "code",
      "execution_count": null,
      "metadata": {
        "id": "1t49XKPtc61t"
      },
      "outputs": [],
      "source": [
        "from google.colab import files\n",
        "import shutil\n",
        "\n",
        "print(\"Please upload your dataset ZIP file (structured by person folders)...\")\n",
        "uploaded = files.upload()\n",
        "zip_name = list(uploaded.keys())[0]\n",
        "shutil.unpack_archive(zip_name, 'dataset')"
      ]
    },
    {
      "cell_type": "markdown",
      "metadata": {
        "id": "v2NSj-a2dPqj"
      },
      "source": [
        "Build embedding index and label list"
      ]
    },
    {
      "cell_type": "code",
      "execution_count": null,
      "metadata": {
        "id": "YO2lT4eCdPCO"
      },
      "outputs": [],
      "source": [
        "embeddings = []\n",
        "labels = []\n",
        "paths = []\n",
        "\n",
        "for root, dirs, files_in_dir in os.walk('dataset'):\n",
        "    for file in files_in_dir:\n",
        "        if file.lower().endswith(('jpg', 'jpeg', 'png')):\n",
        "            img_path = os.path.join(root, file)\n",
        "            try:\n",
        "                img = Image.open(img_path).convert('RGB')\n",
        "                face = mtcnn(img)\n",
        "                if face is not None:\n",
        "                    emb = model(face.unsqueeze(0).to(device)).squeeze(0).detach().cpu().numpy()\n",
        "                    embeddings.append(emb)\n",
        "                    labels.append(os.path.basename(root))\n",
        "                    paths.append(img_path)\n",
        "            except Exception as e:\n",
        "                print(f\"Error processing {img_path}: {e}\")\n",
        "\n",
        "embeddings = np.array(embeddings).astype('float32')\n",
        "print(f\"✅ Indexed {len(embeddings)} face images.\")"
      ]
    },
    {
      "cell_type": "markdown",
      "metadata": {
        "id": "O5SvROOqdVqA"
      },
      "source": [
        "Build Faiss Index"
      ]
    },
    {
      "cell_type": "code",
      "execution_count": null,
      "metadata": {
        "id": "_T62xOjQdWdw"
      },
      "outputs": [],
      "source": [
        "index = faiss.IndexFlatL2(embeddings.shape[1])\n",
        "index.add(embeddings)"
      ]
    },
    {
      "cell_type": "markdown",
      "metadata": {
        "id": "RTxhanJedYAO"
      },
      "source": [
        "Upload and Match Query Image"
      ]
    },
    {
      "cell_type": "code",
      "execution_count": null,
      "metadata": {
        "colab": {
          "background_save": true
        },
        "id": "Kh3E9zk__EGc"
      },
      "outputs": [],
      "source": [
        "# Step 0: Install dependencies and set up ngrok\n",
        "!pip install -q pyngrok\n",
        "\n",
        "from flask import Flask, request, jsonify\n",
        "from pyngrok import ngrok, conf\n",
        "from PIL import Image\n",
        "import io\n",
        "import torch\n",
        "import numpy as np\n",
        "\n",
        "# 🔑 Set your ngrok authtoken (you only need to do this once per session)\n",
        "conf.get_default().auth_token = \"2wczMgF7rlSM0EkZuX7LvgITQNf_7itKcLPyvqTW6qPSHZGtz\"\n",
        "\n",
        "# ✅ Make sure the following objects are already defined earlier:\n",
        "# mtcnn, model, device, index, labels\n",
        "\n",
        "# Step 1: Initialize Flask app\n",
        "app = Flask(__name__)\n",
        "\n",
        "# Step 2: Define the face identification endpoint\n",
        "@app.route(\"/identify\", methods=[\"POST\"])\n",
        "def identify():\n",
        "    if 'image' not in request.files:\n",
        "        return jsonify({\"error\": \"No image uploaded\"}), 400\n",
        "\n",
        "    file = request.files['image']\n",
        "    try:\n",
        "        img = Image.open(io.BytesIO(file.read())).convert('RGB')\n",
        "        face = mtcnn(img)\n",
        "\n",
        "        if face is None:\n",
        "            return jsonify({\"found\": False, \"reason\": \"No face detected\"}), 200\n",
        "\n",
        "        # 🧠 Get face embedding\n",
        "        with torch.no_grad():\n",
        "            emb = model(face.unsqueeze(0).to(device)).squeeze(0).cpu().numpy()\n",
        "        emb = np.expand_dims(emb.astype('float32'), axis=0)\n",
        "\n",
        "        # 🔍 Search in FAISS index\n",
        "        D, I = index.search(emb, k=1)\n",
        "        threshold = 1.0\n",
        "\n",
        "        if D[0][0] < threshold:\n",
        "            return jsonify({\n",
        "                \"found\": True,\n",
        "                \"label\": labels[I[0][0]],\n",
        "                \"distance\": float(D[0][0])\n",
        "            })\n",
        "        else:\n",
        "            return jsonify({\n",
        "                \"found\": False,\n",
        "                \"closest_distance\": float(D[0][0])\n",
        "            })\n",
        "\n",
        "    except Exception as e:\n",
        "        return jsonify({\"error\": str(e)}), 500\n",
        "\n",
        "# Step 3: Start ngrok tunnel and run the app\n",
        "public_url = ngrok.connect(5000)\n",
        "print(\"🚀 Public URL:\", public_url)\n",
        "\n",
        "app.run(port=5000)\n"
      ]
    }
  ],
  "metadata": {
    "colab": {
      "provenance": []
    },
    "kernelspec": {
      "display_name": "Python 3",
      "name": "python3"
    },
    "language_info": {
      "name": "python"
    }
  },
  "nbformat": 4,
  "nbformat_minor": 0
}